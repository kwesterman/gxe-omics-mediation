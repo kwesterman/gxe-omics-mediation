{
 "cells": [
  {
   "cell_type": "markdown",
   "metadata": {},
   "source": [
    "# Preliminaries"
   ]
  },
  {
   "cell_type": "code",
   "execution_count": null,
   "metadata": {},
   "outputs": [],
   "source": [
    "suppressPackageStartupMessages(library(tidyverse))\n",
    "library(patchwork)"
   ]
  },
  {
   "cell_type": "code",
   "execution_count": null,
   "metadata": {},
   "outputs": [],
   "source": [
    "ws_namespace <- Sys.getenv(\"WORKSPACE_NAMESPACE\")\n",
    "ws_name <- Sys.getenv(\"WORKSPACE_NAME\")\n",
    "ws_bucket <- Sys.getenv(\"WORKSPACE_BUCKET\")"
   ]
  },
  {
   "cell_type": "code",
   "execution_count": null,
   "metadata": {},
   "outputs": [],
   "source": [
    "theme_set(theme_bw())"
   ]
  },
  {
   "cell_type": "markdown",
   "metadata": {},
   "source": [
    "## Read in phenotypic and metabolomic data"
   ]
  },
  {
   "cell_type": "markdown",
   "metadata": {},
   "source": [
    "* Phenotype data come from integrating inputs from dbGaP (/PIC-SURE), MESA investigators, and metadata from metabolomic preprocessing.\n",
    "* Genotype data come from dbGaP (Freeze 9b TOPMed-wide genotype VCF files)."
   ]
  },
  {
   "cell_type": "code",
   "execution_count": null,
   "metadata": {},
   "outputs": [],
   "source": [
    "analysis_df <- read_csv(\"analysis/phenos_and_genos.csv\", col_types=cols())\n",
    "names(analysis_df)\n",
    "\n",
    "analysis_df_all <- read_csv(\"analysis/phenos_and_genos_all.csv\", col_types=cols())"
   ]
  },
  {
   "cell_type": "code",
   "execution_count": null,
   "metadata": {},
   "outputs": [],
   "source": [
    "snp_info_df <- read_csv(\"genotypes/snp_info.csv\", col_types=cols())\n",
    "\n",
    "exposures <- c(\"pa\", \"pa_bin\")"
   ]
  },
  {
   "cell_type": "markdown",
   "metadata": {},
   "source": [
    "# Explore physical activity main effects and covariate adjustments"
   ]
  },
  {
   "cell_type": "code",
   "execution_count": null,
   "metadata": {},
   "outputs": [],
   "source": [
    "fit_main_effect_model <- function(y, e, covars, df) {\n",
    "  form_str <- paste0(y, \" ~ \", e, \" + \", paste(covars, collapse=\" + \"))\n",
    "  lm_fit <- lm(as.formula(form_str), data=df) \n",
    "  lm_fit %>%\n",
    "      broom::tidy() %>%\n",
    "      filter(term == e)\n",
    "}\n",
    "\n",
    "basic_covars <- c(\"site\", \"gender_f0m1\", \"age\")\n",
    "covar_sets <- list(\n",
    "    basic = basic_covars,\n",
    "    add_ses = c(basic_covars, \"ses_score\", \"income_cat\"),\n",
    "    add_ses_HL = c(basic_covars, \"ses_score\", \"income_cat\", \n",
    "                              \"drinks_per_week\", \"smoking\", \"ahei_score\", \"dash_score\"),\n",
    "    add_ses_HL_gPC = c(basic_covars, \"ses_score\", \"income_cat\", \n",
    "                              \"drinks_per_week\", \"smoking\", \"ahei_score\", \"dash_score\",\n",
    "                       paste0(\"gPC\", 1:5)),\n",
    "    add_ses_HL_race = c(basic_covars, \"ses_score\", \"income_cat\", \n",
    "                              \"drinks_per_week\", \"smoking\", \"ahei_score\", \"dash_score\",\n",
    "                   \"race\")\n",
    ")\n",
    "\n",
    "pa_fields <- c(\"pa\", \"pa_bin\", \"mod_pa\", \"vig_pa\", \"mvpa\")\n",
    "\n",
    "main_effect_sensitivity_res_df <- expand_grid(\n",
    "  e = c(pa_fields, \"rs295849\"),\n",
    "  covar_set = names(covar_sets)\n",
    ") %>%\n",
    "  rowwise() %>%\n",
    "  mutate(lm_fit = list(fit_main_effect_model(\"hdl_log\", e, covar_sets[[covar_set]], analysis_df))) %>%\n",
    "  unnest(lm_fit)\n",
    "\n",
    "analysis_df_all$pa_log <- log(analysis_df_all$pa + 1)\n",
    "main_effect_sensitivity_res_df_all <- expand_grid(\n",
    "  e = c(pa_fields, \"pa_log\", \"rs295849\"),\n",
    "  covar_set = names(covar_sets)\n",
    ") %>%\n",
    "  rowwise() %>%\n",
    "  mutate(lm_fit = list(fit_main_effect_model(\"hdl_log\", e, covar_sets[[covar_set]], analysis_df_all))) %>%\n",
    "  unnest(lm_fit)"
   ]
  },
  {
   "cell_type": "code",
   "execution_count": null,
   "metadata": {},
   "outputs": [],
   "source": [
    "options(repr.plot.width=16, repr.plot.height=5)\n",
    "\n",
    "main_effect_sensitivity_res_df_all %>%\n",
    "  filter(e %in% c(\"pa\", \"rs295849\")) %>%\n",
    "  mutate(l95 = estimate - 1.96 * std.error,\n",
    "         u95 = estimate + 1.96 * std.error,\n",
    "         covar_set = factor(covar_set, levels=names(covar_sets))) %>%\n",
    "  ggplot(aes(x=covar_set, y=estimate)) +\n",
    "  geom_point() +\n",
    "  geom_errorbar(aes(ymin=l95, ymax=u95), width=0.2) +\n",
    "  geom_hline(yintercept=0, color=\"gray\") +\n",
    "  facet_wrap(vars(e), scale=\"free_y\", nrow=1) +\n",
    "  labs(x=\"Covariate set\", y=\"PA or SNP main effect estimate (95% CI)\",\n",
    "       title=\"Main effects in the full MESA dataset\")\n",
    "\n",
    "main_effect_sensitivity_res_df %>%\n",
    "  filter(e %in% c(\"pa\", \"rs295849\")) %>%\n",
    "  mutate(l95 = estimate - 1.96 * std.error,\n",
    "         u95 = estimate + 1.96 * std.error,\n",
    "         covar_set = factor(covar_set, levels=names(covar_sets))) %>%\n",
    "  ggplot(aes(x=covar_set, y=estimate)) +\n",
    "  geom_point() +\n",
    "  geom_errorbar(aes(ymin=l95, ymax=u95), width=0.2) +\n",
    "  geom_hline(yintercept=0, color=\"gray\") +\n",
    "  facet_wrap(vars(e), scale=\"free_y\", nrow=1) +\n",
    "  labs(x=\"Covariate set\", y=\"PA or SNP main effect estimate (95% CI)\",\n",
    "       title=\"Main effects in the MESA subset with LC/MS metabolomics\")"
   ]
  },
  {
   "cell_type": "markdown",
   "metadata": {},
   "source": [
    "It appears that both gPCs and race variables have some effect on PA effect estimates. Given this, and the multi-population nature of this dataset, we will include 5 gPCs in subsequent models."
   ]
  },
  {
   "cell_type": "code",
   "execution_count": null,
   "metadata": {},
   "outputs": [],
   "source": [
    "covars <- covar_sets$add_ses_HL_gPC"
   ]
  },
  {
   "cell_type": "code",
   "execution_count": null,
   "metadata": {},
   "outputs": [],
   "source": [
    "pa_types <- c(\"pa\", \"pa_log\", \"pa_bin\", \"mvpa\", \"mod_pa\", \"vig_pa\")\n",
    "pa_types_clean <- c(\"Intentional PA\", \"log(Intentional PA)\", \"Binarized intentional PA\",\n",
    "                    \"Moderate + vigorous PA\", \"Moderate PA\", \"Vigorous PA\")\n",
    "\n",
    "main_effect_sensitivity_res_df_all %>%\n",
    "  filter(e != \"rs295849\",\n",
    "         covar_set == \"add_ses_HL_gPC\") %>%\n",
    "  mutate(e = factor(e, levels = pa_types, labels = pa_types_clean)) %>%\n",
    "  ggplot(aes(x=e, y=statistic)) +\n",
    "  geom_bar(stat=\"identity\", width=0.5) +\n",
    "  geom_hline(yintercept=0, color=\"gray\") +\n",
    "  labs(x=\"Covariate set\", y=\"Z-statistic\",\n",
    "       title=\"Significance of main effects for alternative PA variables\")"
   ]
  },
  {
   "cell_type": "markdown",
   "metadata": {},
   "source": [
    "It also appears that vigorous PA has a substantially stronger association with HDL-C than the \"intentional PA\" variable used in the CHARGE Phase I meta-analysis."
   ]
  },
  {
   "cell_type": "markdown",
   "metadata": {},
   "source": [
    "# Test for the primary interactions"
   ]
  },
  {
   "cell_type": "markdown",
   "metadata": {},
   "source": [
    "Can we reproduce in MESA the interactions found in the original CHARGE GLI meta-analyses?"
   ]
  },
  {
   "cell_type": "markdown",
   "metadata": {},
   "source": [
    "## Previously reported GxEs"
   ]
  },
  {
   "cell_type": "markdown",
   "metadata": {},
   "source": [
    "SNP-exposure-outcome triplets came from two CHARGE GLI publications:\n",
    "* Kilpelainen et al. 2019, *Nat. Comm.* (https://doi.org/10.1038/s41467-018-08008-w) -- physical activity and lipids\n",
    "* Bentley et al. 2019, *Nat. Genet.* (https://doi.org/10.1038/s41588-019-0378-y) -- smoking and lipids\n",
    "\n",
    "For both of these, the exposure(s) were coded as binary variables. HDL-C was log-transformed prior to analysis.\n",
    "\n",
    "Details on the genetic variants:"
   ]
  },
  {
   "cell_type": "code",
   "execution_count": null,
   "metadata": {},
   "outputs": [],
   "source": [
    "head(snp_info_df)"
   ]
  },
  {
   "cell_type": "markdown",
   "metadata": {},
   "source": [
    "Details on the previously reported GxE effects:"
   ]
  },
  {
   "cell_type": "code",
   "execution_count": null,
   "metadata": {},
   "outputs": [],
   "source": [
    "gli_info_df <- tribble(\n",
    "    ~SNP, ~exposure, ~outcome, ~effect_allele, ~EAF, ~beta_int, ~se_int,\n",
    "    \"rs2862183\", \"pa\", \"hdl_log\", \"T\", \"0.22\", \"-0.014\", \"0.003\",\n",
    "    \"rs295849\", \"pa\", \"hdl_log\", \"T\", \"0.38\", \"0.009\", \"0.002\",\n",
    "    \"rs141588480\", \"pa\", \"hdl_log\", \"Ins\", \"0.95\", \"-0.054\", \"0.010\") %>%\n",
    "    mutate(across(c(EAF, beta_int, se_int), as.numeric)) %>%\n",
    "    filter(SNP != \"rs141588480\")\n",
    "\n",
    "gli_info_df"
   ]
  },
  {
   "cell_type": "markdown",
   "metadata": {},
   "source": [
    "## Replication of the primary GxEs in MESA"
   ]
  },
  {
   "cell_type": "code",
   "execution_count": null,
   "metadata": {},
   "outputs": [],
   "source": [
    "test_gxe <- function(y, snp, e, covars, df) {\n",
    "    form_str <- paste0(y, \" ~ \", e, \" * \", snp)\n",
    "    if (!identical(covars, \"\")) form_str <- paste0(form_str, \" + \", paste(covars, collapse=\" + \"))\n",
    "    sumstats <- lm(as.formula(form_str), data=df) %>%\n",
    "        broom::tidy() %>%\n",
    "        filter(term %in% c(e, snp, paste0(e, \":\", snp))) %>%\n",
    "        mutate(EAF_topmed = sum(df[[snp]]) / (2 * nrow(df)))\n",
    "    sumstats\n",
    "}\n",
    "\n",
    "gli_res_df <- gli_info_df %>%\n",
    "    rowwise() %>%\n",
    "    mutate(mod = list(test_gxe(outcome, SNP, exposure, \n",
    "                               covars, analysis_df))) %>%\n",
    "    unnest(mod)\n",
    "\n",
    "gli_res_df_all <- gli_info_df %>%\n",
    "    rowwise() %>%\n",
    "    mutate(mod = list(test_gxe(outcome, SNP, exposure, \n",
    "                               covars, analysis_df_all))) %>%\n",
    "    unnest(mod)\n",
    "\n",
    "gli_res_df_paPCadj <- gli_info_df %>%\n",
    "    rowwise() %>%\n",
    "    mutate(mod = list(test_gxe(outcome, SNP, exposure, \n",
    "                               c(covars, paste0(\"pa*gPC\", 1:5)), analysis_df))) %>%\n",
    "    unnest(mod)"
   ]
  },
  {
   "cell_type": "code",
   "execution_count": null,
   "metadata": {},
   "outputs": [],
   "source": [
    "pa_subtype_gxe_res_df_all <- expand_grid(\n",
    "  y = c(\"hdl_log\"),\n",
    "  e = c(\"pa\", \"mod_pa\", \"vig_pa\", \"mvpa\")\n",
    ") %>%\n",
    "  rowwise() %>%\n",
    "  mutate(lm_res = list(test_gxe(y, \"rs295849\", e, covars, analysis_df_all))) %>%\n",
    "  unnest(lm_res)\n",
    "pa_subtype_gxe_res_df_female <- expand_grid(\n",
    "  y = c(\"hdl_log\"),\n",
    "  e = c(\"pa\", \"mod_pa\", \"vig_pa\", \"mvpa\")\n",
    ") %>%\n",
    "  rowwise() %>%\n",
    "  mutate(lm_res = list(test_gxe(y, \"rs295849\", e, covars, analysis_df_all %>% filter(gender_f0m1 == 0)))) %>%\n",
    "  unnest(lm_res)\n",
    "pa_subtype_gxe_res_df <- bind_rows(list(\n",
    "  all = pa_subtype_gxe_res_df_all,\n",
    "  female = pa_subtype_gxe_res_df_female\n",
    "), .id=\"subgroup\") %>%\n",
    "  filter(grepl(\":rs295849\", term))\n",
    "\n",
    "pa_subtype_gxe_res_df %>%\n",
    "  mutate(l95 = estimate - 1.96 * std.error,\n",
    "         u95 = estimate + 1.96 * std.error) %>%\n",
    "  ggplot(aes(x=e, y=estimate, color=subgroup)) +\n",
    "  geom_point(position=position_dodge(width=0.2)) +\n",
    "  geom_errorbar(aes(ymin=l95, ymax=u95), width=0.2, position=position_dodge(width=0.2)) +\n",
    "  geom_hline(yintercept=0, color=\"gray\") +\n",
    "  facet_wrap(~y, nrow=1, scale=\"free\") +\n",
    "  labs(x=\"\", y=\"Interaction effect estimate\")\n",
    "\n",
    "pa_subtype_gxe_res_df %>%\n",
    "  arrange(p.value)"
   ]
  },
  {
   "cell_type": "markdown",
   "metadata": {},
   "source": [
    "### Regression results from MESA only"
   ]
  },
  {
   "cell_type": "code",
   "execution_count": null,
   "metadata": {},
   "outputs": [],
   "source": [
    "gli_res_df %>%\n",
    "    dplyr::select(SNP, EAF_topmed, exposure, outcome, term, estimate, std.error, p.value) %>%\n",
    "    mutate(across(c(\"estimate\", \"std.error\", \"p.value\", \"EAF_topmed\"), round, 3))"
   ]
  },
  {
   "cell_type": "code",
   "execution_count": null,
   "metadata": {},
   "outputs": [],
   "source": [
    "gli_res_df %>%\n",
    "    dplyr::select(SNP, EAF_topmed, exposure, outcome, term, estimate, std.error, p.value) %>%\n",
    "    group_by(SNP, EAF_topmed, exposure) %>%\n",
    "    summarise(beta_main = estimate[grepl(\"^rs\", term)],\n",
    "              p_main = p.value[grepl(\"^rs\", term)],\n",
    "              beta_1df = estimate[grepl(\":\", term)],\n",
    "              p_1df = p.value[grepl(\":\", term)],\n",
    "              .groups=\"drop\")"
   ]
  },
  {
   "cell_type": "markdown",
   "metadata": {},
   "source": [
    "African-American subset only:"
   ]
  },
  {
   "cell_type": "code",
   "execution_count": null,
   "metadata": {},
   "outputs": [],
   "source": [
    "test_interaction_race_specific <- function(y, snp, e, covars, r) {\n",
    "    form_str <- paste0(y, \" ~ \", e, \" * \", snp)\n",
    "    if (!identical(covars, \"\")) form_str <- paste0(form_str, \" + \", paste(covars, collapse=\" + \"))\n",
    "    sumstats <- lm(as.formula(form_str), data=filter(analysis_df, race == r)) %>%\n",
    "        broom::tidy() %>%\n",
    "        filter(term %in% c(e, snp, paste0(e, \":\", snp))) %>%\n",
    "        mutate(EAF_topmed = sum(analysis_df[[snp]]) / (2 * nrow(analysis_df)))\n",
    "    sumstats\n",
    "}\n",
    "\n",
    "gli_res_df_aa <- gli_info_df %>%\n",
    "    rowwise() %>%\n",
    "    mutate(mod = list(test_interaction_race_specific(outcome, SNP, exposure, covars, \"african-american\"))) %>%\n",
    "    unnest(mod)\n",
    "\n",
    "gli_res_df_aa %>%\n",
    "    filter(grepl(\":\", term)) %>%\n",
    "    dplyr::select(SNP, EAF_topmed, exposure, outcome, term, estimate, std.error, p.value) %>%\n",
    "    mutate(across(c(\"estimate\", \"std.error\", \"p.value\", \"EAF_topmed\"), round, 3))"
   ]
  },
  {
   "cell_type": "markdown",
   "metadata": {},
   "source": [
    "### MESA results compared to Phase I meta-analysis findings"
   ]
  },
  {
   "cell_type": "code",
   "execution_count": null,
   "metadata": {},
   "outputs": [],
   "source": [
    "bind_rows(list(\n",
    "    publication = gli_res_df %>% \n",
    "        filter(grepl(\":\", term)) %>%\n",
    "        dplyr::select(SNP, exposure, estimate=beta_int, se=se_int),\n",
    "    topmed = gli_res_df %>%\n",
    "        filter(grepl(\":\", term)) %>%\n",
    "        dplyr::select(SNP, exposure, estimate, se=std.error)\n",
    "), .id=\"source\") %>%\n",
    "    mutate(l95 = estimate - 1.96 * se,\n",
    "           u95 = estimate + 1.96 * se,\n",
    "           xlab = paste0(SNP, \" x \", exposure)) %>%\n",
    "    ggplot(aes(x=xlab, y=estimate, color=source)) +\n",
    "    geom_point(position=position_dodge(width=0.2)) +\n",
    "    geom_errorbar(aes(ymin=l95, ymax=u95), width=0.1,\n",
    "                  position=position_dodge(width=0.2)) +\n",
    "    geom_hline(yintercept=0, color=\"gray\") +\n",
    "    labs(x=\"GxE interactions from literature\",\n",
    "         y=\"Interaction effect estimate\") +\n",
    "    theme(axis.text.x=element_text(angle=30, hjust=0.7)) +\n",
    "    coord_cartesian(ylim=c(-0.2, 0.2))\n",
    "\n",
    "bind_rows(list(\n",
    "    publication = gli_res_df %>% \n",
    "        filter(grepl(\":\", term)) %>%\n",
    "        dplyr::select(SNP, exposure, estimate=beta_int, se=se_int),\n",
    "    topmed = gli_res_df_aa %>%\n",
    "        filter(grepl(\":\", term)) %>%\n",
    "        dplyr::select(SNP, exposure, estimate, se=std.error)\n",
    "), .id=\"source\") %>%\n",
    "    mutate(l95 = estimate - 1.96 * se,\n",
    "           u95 = estimate + 1.96 * se,\n",
    "           xlab = paste0(SNP, \" x \", exposure)) %>%\n",
    "    ggplot(aes(x=xlab, y=estimate, color=source)) +\n",
    "    geom_point(position=position_dodge(width=0.2)) +\n",
    "    geom_errorbar(aes(ymin=l95, ymax=u95), width=0.1,\n",
    "                  position=position_dodge(width=0.2)) +\n",
    "    geom_hline(yintercept=0, color=\"gray\") +\n",
    "    labs(x=\"GxE interactions from literature\",\n",
    "         y=\"Interaction effect estimate\",\n",
    "         title=\"African-American only\") +\n",
    "    theme(axis.text.x=element_text(angle=30, hjust=0.7)) +\n",
    "    coord_cartesian(ylim=c(-0.2, 0.2))"
   ]
  }
 ],
 "metadata": {
  "kernelspec": {
   "display_name": "R",
   "language": "R",
   "name": "ir"
  },
  "language_info": {
   "codemirror_mode": "r",
   "file_extension": ".r",
   "mimetype": "text/x-r-source",
   "name": "R",
   "pygments_lexer": "r",
   "version": "4.3.0"
  },
  "toc": {
   "base_numbering": 1,
   "nav_menu": {},
   "number_sections": true,
   "sideBar": true,
   "skip_h1_title": false,
   "title_cell": "Table of Contents",
   "title_sidebar": "Contents",
   "toc_cell": false,
   "toc_position": {},
   "toc_section_display": true,
   "toc_window_display": false
  }
 },
 "nbformat": 4,
 "nbformat_minor": 2
}
